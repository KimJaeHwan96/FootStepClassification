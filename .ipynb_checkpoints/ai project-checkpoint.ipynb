{
 "cells": [
  {
   "cell_type": "code",
   "execution_count": 18,
   "metadata": {
    "scrolled": false
   },
   "outputs": [
    {
     "name": "stdout",
     "output_type": "stream",
     "text": [
      "Found 252 images belonging to 28 classes.\n",
      "Found 28 images belonging to 28 classes.\n",
      "Epoch 1/15\n",
      "126/126 [==============================] - 7s 53ms/step - loss: 3.3887 - accuracy: 0.0595 - val_loss: 3.2505 - val_accuracy: 0.2143\n",
      "Epoch 2/15\n",
      "126/126 [==============================] - 6s 47ms/step - loss: 2.5986 - accuracy: 0.2817 - val_loss: 2.1631 - val_accuracy: 0.7500\n",
      "Epoch 3/15\n",
      "126/126 [==============================] - 6s 46ms/step - loss: 1.2814 - accuracy: 0.6190 - val_loss: 0.4362 - val_accuracy: 1.0000\n",
      "Epoch 4/15\n",
      "126/126 [==============================] - 6s 46ms/step - loss: 0.6273 - accuracy: 0.8135 - val_loss: 0.3476 - val_accuracy: 0.9643\n",
      "Epoch 5/15\n",
      "126/126 [==============================] - 6s 45ms/step - loss: 0.4274 - accuracy: 0.8492 - val_loss: 0.0030 - val_accuracy: 1.0000\n",
      "Epoch 6/15\n",
      "126/126 [==============================] - 6s 46ms/step - loss: 0.4032 - accuracy: 0.8532 - val_loss: 0.0089 - val_accuracy: 0.9643\n",
      "Epoch 7/15\n",
      "126/126 [==============================] - 6s 45ms/step - loss: 0.4049 - accuracy: 0.8690 - val_loss: 0.0044 - val_accuracy: 1.0000\n",
      "Epoch 8/15\n",
      "126/126 [==============================] - 6s 46ms/step - loss: 0.3349 - accuracy: 0.8968 - val_loss: 9.1448e-05 - val_accuracy: 1.0000\n",
      "Epoch 9/15\n",
      "126/126 [==============================] - 6s 45ms/step - loss: 0.2591 - accuracy: 0.9206 - val_loss: 0.0015 - val_accuracy: 1.0000\n",
      "Epoch 10/15\n",
      "126/126 [==============================] - 6s 45ms/step - loss: 0.2167 - accuracy: 0.9246 - val_loss: 7.2121e-06 - val_accuracy: 1.0000\n",
      "Epoch 11/15\n",
      "126/126 [==============================] - 6s 45ms/step - loss: 0.2611 - accuracy: 0.9167 - val_loss: 0.0015 - val_accuracy: 1.0000\n",
      "Epoch 12/15\n",
      "126/126 [==============================] - 6s 45ms/step - loss: 0.1547 - accuracy: 0.9643 - val_loss: 3.6964e-04 - val_accuracy: 1.0000\n",
      "Epoch 13/15\n",
      "126/126 [==============================] - 6s 45ms/step - loss: 0.2197 - accuracy: 0.9206 - val_loss: 0.0020 - val_accuracy: 1.0000\n",
      "Epoch 14/15\n",
      "126/126 [==============================] - 6s 45ms/step - loss: 0.1829 - accuracy: 0.9484 - val_loss: 9.7751e-06 - val_accuracy: 1.0000\n",
      "Epoch 15/15\n",
      "126/126 [==============================] - 6s 46ms/step - loss: 0.1863 - accuracy: 0.9444 - val_loss: 0.0032 - val_accuracy: 1.0000\n",
      "-- Evaluate --\n",
      "accuracy: 100.00%\n",
      "-- Predict --\n",
      "{'1': 0, '10': 1, '11': 2, '12': 3, '13': 4, '14': 5, '15': 6, '16': 7, '17': 8, '18': 9, '19': 10, '2': 11, '20': 12, '21': 13, '22': 14, '23': 15, '24': 16, '25': 17, '26': 18, '27': 19, '28': 20, '3': 21, '4': 22, '5': 23, '6': 24, '7': 25, '8': 26, '9': 27}\n",
      "['1\\\\1_10.bmp', '10\\\\10_10.bmp', '11\\\\11_10.bmp', '12\\\\12_10.bmp', '13\\\\13_10.bmp', '14\\\\14_10.bmp', '15\\\\15_10.bmp', '16\\\\16_10.bmp', '17\\\\17_10.bmp', '18\\\\18_10.bmp', '19\\\\19_10.bmp', '2\\\\2_10.bmp', '20\\\\20_10.bmp', '21\\\\21_10.bmp', '22\\\\22_10.bmp', '23\\\\23_10.bmp', '24\\\\24_10.bmp', '25\\\\25_10.bmp', '26\\\\26_10.bmp', '27\\\\27_10.bmp', '28\\\\28_10.bmp', '3\\\\3_10.bmp', '4\\\\4_10.bmp', '5\\\\5_10.bmp', '6\\\\6_10.bmp', '7\\\\7_10.bmp', '8\\\\8_10.bmp', '9\\\\9_10.bmp']\n"
     ]
    },
    {
     "data": {
      "text/plain": [
       "\"\\n#데이터 시각화\\n\\n%matplotlib inline\\nimport matplotlib.pyplot as plt\\n\\nfig, loss_ax = plt.subplots()\\n\\nacc_ax = loss_ax.twinx()\\n\\nloss_ax.plot(hist.history['loss'], 'y', label='train loss')\\nloss_ax.plot(hist.history['val_loss'], 'r', label='val loss')\\n\\nacc_ax.plot(hist.history['acc'], 'b', label='train acc')\\nacc_ax.plot(hist.history['val_acc'], 'g', label='val acc')\\n\\nloss_ax.set_xlabel('epoch')\\nloss_ax.set_ylabel('loss')\\nacc_ax.set_ylabel('accuray')\\n\\nloss_ax.legend(loc='upper left')\\nacc_ax.legend(loc='lower left')\\n\\nplt.show()\\n\""
      ]
     },
     "execution_count": 18,
     "metadata": {},
     "output_type": "execute_result"
    }
   ],
   "source": [
    "import numpy as np\n",
    "\n",
    "from keras.models import Sequential\n",
    "from keras.layers import Dense\n",
    "from keras.layers import Flatten\n",
    "from keras.layers.convolutional import Conv2D\n",
    "from keras.layers.convolutional import MaxPooling2D\n",
    "from keras.preprocessing.image import ImageDataGenerator\n",
    "from keras.layers import Dropout\n",
    "\n",
    "import keras\n",
    "\n",
    "\n",
    "# 랜덤시드 고정시키기\n",
    "np.random.seed(3)\n",
    "\n",
    "#훈련 데이터와 예측 데이터 생성\n",
    "train_datagen = ImageDataGenerator(rescale=1./255)\n",
    "\n",
    "train_generator = train_datagen.flow_from_directory(\n",
    "        'datasets/train',\n",
    "        target_size=(72, 72),\n",
    "        batch_size=2,\n",
    "        class_mode='categorical')\n",
    "\n",
    "test_datagen = ImageDataGenerator(rescale=1./255)\n",
    "\n",
    "test_generator = test_datagen.flow_from_directory(\n",
    "        'datasets/test',\n",
    "        target_size=(72, 72),    \n",
    "        batch_size=4,\n",
    "        class_mode='categorical')\n",
    "\n",
    "\n",
    "# 모델 정의 VGG\n",
    "model = Sequential()\n",
    "model.add(Conv2D(64, kernel_size = (3, 3), padding='valid',\n",
    "                 activation='relu', input_shape=(72, 72, 3)))\n",
    "model.add(Conv2D(32, (3, 3), padding='valid', activation='relu'))\n",
    "model.add(MaxPooling2D(pool_size=(2, 2)))\n",
    "model.add(Dropout(0.25))\n",
    "\n",
    "model.add(Conv2D(32, (3, 3), padding='valid', activation='relu'))\n",
    "model.add(Conv2D(32, (3, 3), padding='valid', activation='relu'))\n",
    "model.add(MaxPooling2D(pool_size=(2, 2)))\n",
    "model.add(Dropout(0.25))\n",
    "\n",
    "model.add(Flatten())\n",
    "model.add(Dense(128, activation='relu'))\n",
    "model.add(Dropout(0.5))\n",
    "model.add(Dense(28, activation='softmax'))\n",
    "\n",
    "model.compile(loss='categorical_crossentropy', optimizer='adam', metrics=['accuracy'])\n",
    "\n",
    "tb_hist = keras.callbacks.TensorBoard(log_dir='./graph', histogram_freq=0, write_graph=True, write_images=True)\n",
    "\n",
    "#모델 학습시키기\n",
    "model.fit_generator(\n",
    "        train_generator,\n",
    "        steps_per_epoch=126,\n",
    "        epochs=15, \n",
    "        callbacks = [tb_hist],\n",
    "        validation_data=test_generator,\n",
    "        validation_steps=7)\n",
    "\n",
    "\n",
    "print(\"-- Evaluate --\")\n",
    "scores = model.evaluate_generator(test_generator, steps=5)\n",
    "print(\"%s: %.2f%%\" %(model.metrics_names[1], scores[1]*100))\n",
    "\n",
    "print(\"-- Predict --\")\n",
    "output = model.predict_generator(test_generator, steps=5)\n",
    "np.set_printoptions(formatter={'float': lambda x: \"{0:0.3f}\".format(x)})\n",
    "print(test_generator.class_indices)\n",
    "\n",
    "print(test_generator.filenames)\n",
    "\"\"\"\n",
    "#데이터 시각화\n",
    "\n",
    "%matplotlib inline\n",
    "import matplotlib.pyplot as plt\n",
    "\n",
    "fig, loss_ax = plt.subplots()\n",
    "\n",
    "acc_ax = loss_ax.twinx()\n",
    "\n",
    "loss_ax.plot(hist.history['loss'], 'y', label='train loss')\n",
    "loss_ax.plot(hist.history['val_loss'], 'r', label='val loss')\n",
    "\n",
    "acc_ax.plot(hist.history['acc'], 'b', label='train acc')\n",
    "acc_ax.plot(hist.history['val_acc'], 'g', label='val acc')\n",
    "\n",
    "loss_ax.set_xlabel('epoch')\n",
    "loss_ax.set_ylabel('loss')\n",
    "acc_ax.set_ylabel('accuray')\n",
    "\n",
    "loss_ax.legend(loc='upper left')\n",
    "acc_ax.legend(loc='lower left')\n",
    "\n",
    "plt.show()\n",
    "\"\"\""
   ]
  },
  {
   "cell_type": "code",
   "execution_count": 73,
   "metadata": {},
   "outputs": [
    {
     "data": {
      "image/png": "[encoded data removed]",
      "text/plain": [
       "<Figure size 432x288 with 1 Axes>"
      ]
     },
     "metadata": {
      "needs_background": "light"
     },
     "output_type": "display_data"
    }
   ],
   "source": [
    "import random\n",
    "import os\n",
    "import matplotlib.pyplot as plt\n",
    "\n",
    "#filenames = load_data('datasets/vaild')\n",
    "filenames = os.listdir('datasets/vaild')\n",
    "# Get one and predict\n",
    "#r = random.randint(0, 27)\n",
    "\n",
    "\n",
    "for r in range(0,28):\n",
    "    link = 'datasets/vaild/'+ str(r+1) +'.bmp'\n",
    "    a = plt.imread(link)\n",
    "    plt.imshow(a, cmap=\"gray\",interpolation=\"nearest\")"
   ]
  },
  {
   "cell_type": "code",
   "execution_count": null,
   "metadata": {},
   "outputs": [],
   "source": []
  }
 ],
 "metadata": {
  "kernelspec": {
   "display_name": "Python 3",
   "language": "python",
   "name": "python3"
  },
  "language_info": {
   "codemirror_mode": {
    "name": "ipython",
    "version": 3
   },
   "file_extension": ".py",
   "mimetype": "text/x-python",
   "name": "python",
   "nbconvert_exporter": "python",
   "pygments_lexer": "ipython3",
   "version": "3.7.4"
  }
 },
 "nbformat": 4,
 "nbformat_minor": 2
}
