{
 "cells": [
  {
   "cell_type": "code",
   "execution_count": 2,
   "metadata": {
    "scrolled": false
   },
   "outputs": [
    {
     "name": "stdout",
     "output_type": "stream",
     "text": [
      "Found 252 images belonging to 28 classes.\n",
      "Found 28 images belonging to 28 classes.\n",
      "Epoch 1/10\n",
      "84/84 [==============================] - 93s 1s/step - loss: 3.3165 - accuracy: 0.0675 - val_loss: 3.2166 - val_accuracy: 0.0357\n",
      "Epoch 2/10\n",
      "84/84 [==============================] - 92s 1s/step - loss: 1.9647 - accuracy: 0.4365 - val_loss: 0.0297 - val_accuracy: 0.9286\n",
      "Epoch 3/10\n",
      "84/84 [==============================] - 92s 1s/step - loss: 0.4996 - accuracy: 0.8571 - val_loss: 0.0018 - val_accuracy: 0.9286\n",
      "Epoch 4/10\n",
      "84/84 [==============================] - 92s 1s/step - loss: 0.2036 - accuracy: 0.9444 - val_loss: 0.0101 - val_accuracy: 0.9643\n",
      "Epoch 5/10\n",
      "84/84 [==============================] - 92s 1s/step - loss: 0.1024 - accuracy: 0.9563 - val_loss: 2.8877e-05 - val_accuracy: 1.0000\n",
      "Epoch 6/10\n",
      "84/84 [==============================] - 92s 1s/step - loss: 0.1243 - accuracy: 0.9524 - val_loss: 8.5012e-05 - val_accuracy: 0.9643\n",
      "Epoch 7/10\n",
      "84/84 [==============================] - 93s 1s/step - loss: 0.0912 - accuracy: 0.9563 - val_loss: 0.0013 - val_accuracy: 1.0000\n",
      "Epoch 8/10\n",
      "84/84 [==============================] - 92s 1s/step - loss: 0.1992 - accuracy: 0.9444 - val_loss: 0.0029 - val_accuracy: 0.9643\n",
      "Epoch 9/10\n",
      "84/84 [==============================] - 92s 1s/step - loss: 0.0976 - accuracy: 0.9762 - val_loss: 3.8743e-06 - val_accuracy: 1.0000\n",
      "Epoch 10/10\n",
      "84/84 [==============================] - 94s 1s/step - loss: 0.0936 - accuracy: 0.9722 - val_loss: 2.7417e-05 - val_accuracy: 1.0000\n",
      "-- Evaluate --\n",
      "accuracy: 100.00%\n",
      "-- Predict --\n",
      "{'1': 0, '10': 1, '11': 2, '12': 3, '13': 4, '14': 5, '15': 6, '16': 7, '17': 8, '18': 9, '19': 10, '2': 11, '20': 12, '21': 13, '22': 14, '23': 15, '24': 16, '25': 17, '26': 18, '27': 19, '28': 20, '3': 21, '4': 22, '5': 23, '6': 24, '7': 25, '8': 26, '9': 27}\n",
      "['1\\\\1_10.bmp', '10\\\\10_10.bmp', '11\\\\11_10.bmp', '12\\\\12_10.bmp', '13\\\\13_10.bmp', '14\\\\14_10.bmp', '15\\\\15_10.bmp', '16\\\\16_10.bmp', '17\\\\17_10.bmp', '18\\\\18_10.bmp', '19\\\\19_10.bmp', '2\\\\2_10.bmp', '20\\\\20_10.bmp', '21\\\\21_10.bmp', '22\\\\22_10.bmp', '23\\\\23_10.bmp', '24\\\\24_10.bmp', '25\\\\25_10.bmp', '26\\\\26_10.bmp', '27\\\\27_10.bmp', '28\\\\28_10.bmp', '3\\\\3_10.bmp', '4\\\\4_10.bmp', '5\\\\5_10.bmp', '6\\\\6_10.bmp', '7\\\\7_10.bmp', '8\\\\8_10.bmp', '9\\\\9_10.bmp']\n"
     ]
    },
    {
     "data": {
      "text/plain": [
       "\"\\n#데이터 시각화\\n\\n%matplotlib inline\\nimport matplotlib.pyplot as plt\\n\\nfig, loss_ax = plt.subplots()\\n\\nacc_ax = loss_ax.twinx()\\n\\nloss_ax.plot(hist.history['loss'], 'y', label='train loss')\\nloss_ax.plot(hist.history['val_loss'], 'r', label='val loss')\\n\\nacc_ax.plot(hist.history['acc'], 'b', label='train acc')\\nacc_ax.plot(hist.history['val_acc'], 'g', label='val acc')\\n\\nloss_ax.set_xlabel('epoch')\\nloss_ax.set_ylabel('loss')\\nacc_ax.set_ylabel('accuray')\\n\\nloss_ax.legend(loc='upper left')\\nacc_ax.legend(loc='lower left')\\n\\nplt.show()\\n\""
      ]
     },
     "execution_count": 2,
     "metadata": {},
     "output_type": "execute_result"
    }
   ],
   "source": [
    "import numpy as np\n",
    "\n",
    "from keras.models import Sequential\n",
    "from keras.layers import Dense\n",
    "from keras.layers import Flatten\n",
    "from keras.layers.convolutional import Conv2D\n",
    "from keras.layers.convolutional import MaxPooling2D\n",
    "from keras.preprocessing.image import ImageDataGenerator\n",
    "from keras.layers import Dropout\n",
    "\n",
    "import keras\n",
    "\n",
    "\n",
    "# 랜덤시드 고정시키기\n",
    "np.random.seed(3)\n",
    "\n",
    "#훈련 데이터와 예측 데이터 생성\n",
    "train_datagen = ImageDataGenerator(rescale=1./255)\n",
    "\n",
    "train_generator = train_datagen.flow_from_directory(\n",
    "        'datasets/train',\n",
    "        target_size=(150, 272),\n",
    "        batch_size= 3,\n",
    "        color_mode=\"grayscale\",\n",
    "        class_mode='categorical')\n",
    "\n",
    "test_datagen = ImageDataGenerator(rescale=1./255)\n",
    "\n",
    "test_generator = test_datagen.flow_from_directory(\n",
    "        'datasets/test',\n",
    "        target_size=(150, 272),\n",
    "        color_mode=\"grayscale\",\n",
    "        batch_size=4,\n",
    "        class_mode='categorical')\n",
    "\n",
    "\n",
    "# 모델 정의 VGG\n",
    "model = Sequential()\n",
    "model.add(Conv2D(128, kernel_size = (3, 3), padding='valid',\n",
    "                 activation='relu', input_shape=(150, 272, 1)))\n",
    "model.add(Conv2D(64, (3, 3), padding='valid', activation='relu'))\n",
    "model.add(MaxPooling2D(pool_size=(2, 2)))\n",
    "model.add(Dropout(0.25))\n",
    "\n",
    "model.add(Conv2D(64, (3, 3), padding='valid', activation='relu'))\n",
    "model.add(Conv2D(64, (3, 3), padding='valid', activation='relu'))\n",
    "model.add(MaxPooling2D(pool_size=(2, 2)))\n",
    "model.add(Dropout(0.25))\n",
    "\n",
    "model.add(Flatten())\n",
    "model.add(Dense(256, activation='relu'))\n",
    "model.add(Dropout(0.5))\n",
    "model.add(Dense(28, activation='softmax'))\n",
    "\n",
    "model.compile(loss='categorical_crossentropy', optimizer='adam', metrics=['accuracy'])\n",
    "\n",
    "tb_hist = keras.callbacks.TensorBoard(log_dir='./graph', histogram_freq=0, write_graph=True, write_images=True)\n",
    "\n",
    "#모델 학습시키기\n",
    "model.fit_generator(\n",
    "        train_generator,\n",
    "        steps_per_epoch= 84,\n",
    "        epochs=10, \n",
    "        callbacks = [tb_hist],\n",
    "        validation_data=test_generator,\n",
    "        validation_steps=7)\n",
    "\n",
    "\n",
    "print(\"-- Evaluate --\")\n",
    "scores = model.evaluate_generator(test_generator, steps=5)\n",
    "print(\"%s: %.2f%%\" %(model.metrics_names[1], scores[1]*100))\n",
    "\n",
    "print(\"-- Predict --\")\n",
    "output = model.predict_generator(test_generator, steps=5)\n",
    "np.set_printoptions(formatter={'float': lambda x: \"{0:0.3f}\".format(x)})\n",
    "print(test_generator.class_indices)\n",
    "\n",
    "print(test_generator.filenames)\n"
   ]
  }
 ],
 "metadata": {
  "kernelspec": {
   "display_name": "Python 3",
   "language": "python",
   "name": "python3"
  },
  "language_info": {
   "codemirror_mode": {
    "name": "ipython",
    "version": 3
   },
   "file_extension": ".py",
   "mimetype": "text/x-python",
   "name": "python",
   "nbconvert_exporter": "python",
   "pygments_lexer": "ipython3",
   "version": "3.7.4"
  }
 },
 "nbformat": 4,
 "nbformat_minor": 2
}
